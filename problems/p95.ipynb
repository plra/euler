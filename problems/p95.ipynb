{
 "cells": [
  {
   "cell_type": "code",
   "execution_count": 1,
   "metadata": {},
   "outputs": [],
   "source": [
    "def sum_divisors(n):\n",
    "    s = 1\n",
    "    for d in range(2, int(n**0.5) + 1):\n",
    "        if n % d == 0:\n",
    "            s += d + (n // d)\n",
    "    return s"
   ]
  },
  {
   "cell_type": "code",
   "execution_count": 5,
   "metadata": {},
   "outputs": [
    {
     "data": {
      "text/plain": [
       "14288"
      ]
     },
     "execution_count": 5,
     "metadata": {},
     "output_type": "execute_result"
    }
   ],
   "source": [
    "sum_divisors(12496)"
   ]
  },
  {
   "cell_type": "code",
   "execution_count": 44,
   "metadata": {},
   "outputs": [],
   "source": [
    "MAX_N = 10**5\n",
    "chains = []\n",
    "seen = set()\n",
    "for n0 in range(2, MAX_N + 1):\n",
    "    if n0 in seen:\n",
    "        continue\n",
    "    n = n0\n",
    "    chain = []\n",
    "    while True:\n",
    "        seen.add(n)\n",
    "        chain.append(n)\n",
    "        n = sum_divisors(n)\n",
    "        if n == 1 or n > MAX_N:\n",
    "            chain = []\n",
    "            break\n",
    "        if n in seen:\n",
    "            if n != n0:\n",
    "                chain = []\n",
    "            break\n",
    "    if chain:\n",
    "        chains.append(chain)"
   ]
  },
  {
   "cell_type": "code",
   "execution_count": 45,
   "metadata": {},
   "outputs": [
    {
     "data": {
      "text/plain": [
       "[[6],\n",
       " [28],\n",
       " [220, 284],\n",
       " [496],\n",
       " [5020, 5564],\n",
       " [6232, 6368],\n",
       " [8128],\n",
       " [10744, 10856],\n",
       " [12285, 14595],\n",
       " [17296, 18416],\n",
       " [66928, 66992],\n",
       " [67095, 71145],\n",
       " [69615, 87633],\n",
       " [79750, 88730]]"
      ]
     },
     "execution_count": 45,
     "metadata": {},
     "output_type": "execute_result"
    }
   ],
   "source": [
    "chains"
   ]
  },
  {
   "cell_type": "code",
   "execution_count": null,
   "metadata": {},
   "outputs": [],
   "source": []
  }
 ],
 "metadata": {
  "kernelspec": {
   "display_name": "Python 3.7.3 64-bit",
   "language": "python",
   "name": "python37364bit82f2df5de1c54130a9b8b37a2f257131"
  },
  "language_info": {
   "codemirror_mode": {
    "name": "ipython",
    "version": 3
   },
   "file_extension": ".py",
   "mimetype": "text/x-python",
   "name": "python",
   "nbconvert_exporter": "python",
   "pygments_lexer": "ipython3",
   "version": "3.7.3"
  }
 },
 "nbformat": 4,
 "nbformat_minor": 2
}
