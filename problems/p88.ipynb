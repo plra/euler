{
 "cells": [
  {
   "cell_type": "markdown",
   "metadata": {},
   "source": [
    "* k=2: 4 = 2 × 2 = 2 + 2\n",
    "* k=3: 6 = 1 × 2 × 3 = 1 + 2 + 3\n",
    "* k=4: 8 = 1 × 1 × 2 × 4 = 1 + 1 + 2 + 4\n",
    "* k=5: 8 = 1 × 1 × 2 × 2 × 2 = 1 + 1 + 2 + 2 + 2\n",
    "* k=6: 12 = 1 × 1 × 1 × 1 × 2 × 6 = 1 + 1 + 1 + 1 + 2 + 6\n",
    "\n",
    "Let $m(k)$ be the minimal product sum number for $k$. We have $k \\leq m(k) \\leq 2k$: the upper bound since $2k = k \\times 2 \\times 1 \\times \\dotsm \\times 1 = k + 2 + 1 + \\dots + 1$, and the lower bound since the sum of $k$ positive integers is at least $k$. "
   ]
  },
  {
   "cell_type": "code",
   "execution_count": 88,
   "metadata": {},
   "outputs": [
    {
     "output_type": "execute_result",
     "data": {
      "text/plain": [
       "[[2, 2, 2, 2, 2, 2, 2, 2, 2, 2],\n",
       " [4, 2, 2, 2, 2, 2, 2, 2, 2],\n",
       " [8, 2, 2, 2, 2, 2, 2, 2],\n",
       " [4, 4, 2, 2, 2, 2, 2, 2],\n",
       " [16, 2, 2, 2, 2, 2, 2],\n",
       " [8, 4, 2, 2, 2, 2, 2],\n",
       " [32, 2, 2, 2, 2, 2],\n",
       " [4, 4, 4, 2, 2, 2, 2],\n",
       " [16, 4, 2, 2, 2, 2],\n",
       " [8, 8, 2, 2, 2, 2],\n",
       " [64, 2, 2, 2, 2],\n",
       " [8, 4, 4, 2, 2, 2],\n",
       " [32, 4, 2, 2, 2],\n",
       " [16, 8, 2, 2, 2],\n",
       " [128, 2, 2, 2],\n",
       " [4, 4, 4, 4, 2, 2],\n",
       " [16, 4, 4, 2, 2],\n",
       " [8, 8, 4, 2, 2],\n",
       " [64, 4, 2, 2],\n",
       " [32, 8, 2, 2],\n",
       " [16, 16, 2, 2],\n",
       " [256, 2, 2],\n",
       " [8, 4, 4, 4, 2],\n",
       " [32, 4, 4, 2],\n",
       " [16, 8, 4, 2],\n",
       " [128, 4, 2],\n",
       " [8, 8, 8, 2],\n",
       " [64, 8, 2],\n",
       " [32, 16, 2],\n",
       " [512, 2],\n",
       " [4, 4, 4, 4, 4],\n",
       " [16, 4, 4, 4],\n",
       " [8, 8, 4, 4],\n",
       " [64, 4, 4],\n",
       " [32, 8, 4],\n",
       " [16, 16, 4],\n",
       " [256, 4],\n",
       " [16, 8, 8],\n",
       " [128, 8],\n",
       " [64, 16],\n",
       " [32, 32],\n",
       " [1024]]"
      ]
     },
     "metadata": {},
     "execution_count": 88
    }
   ],
   "source": [
    "def multiplicative_partitions(n, min_divisor=2):\n",
    "    \"\"\"Generate expressions of n as a product of ints >= min_divisor.\"\"\"\n",
    "    if n == 1:\n",
    "        yield []\n",
    "    for divisor in range(min_divisor, n+1):\n",
    "        if n % divisor == 0:\n",
    "            for product in products(n // divisor, divisor):\n",
    "                yield product + [divisor]\n",
    "list(multiplicative_partitions(1024))"
   ]
  },
  {
   "cell_type": "code",
   "execution_count": 52,
   "metadata": {},
   "outputs": [
    {
     "output_type": "execute_result",
     "data": {
      "text/plain": [
       "False"
      ]
     },
     "metadata": {},
     "execution_count": 52
    }
   ],
   "source": [
    "def is_psn(N, k):\n",
    "    for mp in multiplicative_partitions(N):\n",
    "        # prod(mp) = N\n",
    "        if len(mp) > k:\n",
    "            continue\n",
    "        for _ in range(k - len(mp)):\n",
    "            mp.append(1)\n",
    "        if sum(mp) == N:\n",
    "            # print(f'k={k}: {N} with {mp}')\n",
    "            return True\n",
    "    return False\n",
    "\n",
    "is_psn(12, 9)"
   ]
  },
  {
   "cell_type": "code",
   "execution_count": 110,
   "metadata": {
    "tags": []
   },
   "outputs": [
    {
     "output_type": "stream",
     "name": "stdout",
     "text": [
      "k=100: 108, sum=2061\n",
      "k=200: 216, sum=6623\n",
      "k=300: 324, sum=12362\n",
      "k=400: 420, sum=20704\n",
      "k=500: 512, sum=29836\n",
      "k=600: 624, sum=39072\n",
      "k=700: 720, sum=51245\n",
      "k=800: 828, sum=62244\n",
      "k=900: 936, sum=78206\n",
      "k=1000: 1024, sum=93063\n",
      "k=1100: 1120, sum=112895\n",
      "k=1200: 1224, sum=125128\n",
      "k=1300: 1320, sum=139038\n",
      "k=1400: 1428, sum=168287\n",
      "k=1500: 1548, sum=186193\n",
      "k=1600: 1620, sum=205197\n",
      "k=1700: 1728, sum=232167\n",
      "k=1800: 1836, sum=251869\n",
      "k=1900: 1920, sum=282132\n",
      "k=2000: 2016, sum=301947\n",
      "k=2100: 2128, sum=335414\n",
      "k=2200: 2240, sum=368472\n",
      "k=2300: 2368, sum=398703\n",
      "k=2400: 2448, sum=422700\n",
      "k=2500: 2520, sum=449982\n",
      "k=2600: 2640, sum=489029\n",
      "k=2700: 2752, sum=513382\n"
     ]
    },
    {
     "output_type": "error",
     "ename": "KeyboardInterrupt",
     "evalue": "",
     "traceback": [
      "\u001b[0;31m---------------------------------------------------------------------------\u001b[0m",
      "\u001b[0;31mKeyboardInterrupt\u001b[0m                         Traceback (most recent call last)",
      "\u001b[0;32m<ipython-input-110-16f05d1d5ef2>\u001b[0m in \u001b[0;36m<module>\u001b[0;34m\u001b[0m\n\u001b[1;32m      4\u001b[0m \u001b[0;32mfor\u001b[0m \u001b[0mk\u001b[0m \u001b[0;32min\u001b[0m \u001b[0mrange\u001b[0m\u001b[0;34m(\u001b[0m\u001b[0;36m2\u001b[0m\u001b[0;34m,\u001b[0m \u001b[0mMAX_K\u001b[0m \u001b[0;34m+\u001b[0m \u001b[0;36m1\u001b[0m\u001b[0;34m)\u001b[0m\u001b[0;34m:\u001b[0m\u001b[0;34m\u001b[0m\u001b[0;34m\u001b[0m\u001b[0m\n\u001b[1;32m      5\u001b[0m     \u001b[0;32mfor\u001b[0m \u001b[0mN\u001b[0m \u001b[0;32min\u001b[0m \u001b[0mrange\u001b[0m\u001b[0;34m(\u001b[0m\u001b[0mk\u001b[0m\u001b[0;34m,\u001b[0m \u001b[0;36m2\u001b[0m\u001b[0;34m*\u001b[0m\u001b[0mk\u001b[0m \u001b[0;34m+\u001b[0m \u001b[0;36m1\u001b[0m\u001b[0;34m)\u001b[0m\u001b[0;34m:\u001b[0m\u001b[0;34m\u001b[0m\u001b[0;34m\u001b[0m\u001b[0m\n\u001b[0;32m----> 6\u001b[0;31m         \u001b[0;32mif\u001b[0m \u001b[0mis_psn\u001b[0m\u001b[0;34m(\u001b[0m\u001b[0mN\u001b[0m\u001b[0;34m,\u001b[0m \u001b[0mk\u001b[0m\u001b[0;34m)\u001b[0m\u001b[0;34m:\u001b[0m\u001b[0;34m\u001b[0m\u001b[0;34m\u001b[0m\u001b[0m\n\u001b[0m\u001b[1;32m      7\u001b[0m             \u001b[0;32mif\u001b[0m \u001b[0mk\u001b[0m \u001b[0;34m%\u001b[0m \u001b[0;36m100\u001b[0m \u001b[0;34m==\u001b[0m \u001b[0;36m0\u001b[0m\u001b[0;34m:\u001b[0m\u001b[0;34m\u001b[0m\u001b[0;34m\u001b[0m\u001b[0m\n\u001b[1;32m      8\u001b[0m                 \u001b[0mprint\u001b[0m\u001b[0;34m(\u001b[0m\u001b[0;34mf'k={k}: {N}, sum={sum(mpsns)}'\u001b[0m\u001b[0;34m)\u001b[0m\u001b[0;34m\u001b[0m\u001b[0;34m\u001b[0m\u001b[0m\n",
      "\u001b[0;32m<ipython-input-52-c0ba7b10bec8>\u001b[0m in \u001b[0;36mis_psn\u001b[0;34m(N, k)\u001b[0m\n\u001b[1;32m      5\u001b[0m             \u001b[0;32mcontinue\u001b[0m\u001b[0;34m\u001b[0m\u001b[0;34m\u001b[0m\u001b[0m\n\u001b[1;32m      6\u001b[0m         \u001b[0;32mfor\u001b[0m \u001b[0m_\u001b[0m \u001b[0;32min\u001b[0m \u001b[0mrange\u001b[0m\u001b[0;34m(\u001b[0m\u001b[0mk\u001b[0m \u001b[0;34m-\u001b[0m \u001b[0mlen\u001b[0m\u001b[0;34m(\u001b[0m\u001b[0mmp\u001b[0m\u001b[0;34m)\u001b[0m\u001b[0;34m)\u001b[0m\u001b[0;34m:\u001b[0m\u001b[0;34m\u001b[0m\u001b[0;34m\u001b[0m\u001b[0m\n\u001b[0;32m----> 7\u001b[0;31m             \u001b[0mmp\u001b[0m\u001b[0;34m.\u001b[0m\u001b[0mappend\u001b[0m\u001b[0;34m(\u001b[0m\u001b[0;36m1\u001b[0m\u001b[0;34m)\u001b[0m\u001b[0;34m\u001b[0m\u001b[0;34m\u001b[0m\u001b[0m\n\u001b[0m\u001b[1;32m      8\u001b[0m         \u001b[0;32mif\u001b[0m \u001b[0msum\u001b[0m\u001b[0;34m(\u001b[0m\u001b[0mmp\u001b[0m\u001b[0;34m)\u001b[0m \u001b[0;34m==\u001b[0m \u001b[0mN\u001b[0m\u001b[0;34m:\u001b[0m\u001b[0;34m\u001b[0m\u001b[0;34m\u001b[0m\u001b[0m\n\u001b[1;32m      9\u001b[0m             \u001b[0;31m# print(f'k={k}: {N} with {mp}')\u001b[0m\u001b[0;34m\u001b[0m\u001b[0;34m\u001b[0m\u001b[0;34m\u001b[0m\u001b[0m\n",
      "\u001b[0;31mKeyboardInterrupt\u001b[0m: "
     ]
    }
   ],
   "source": [
    "MAX_K = 12000\n",
    "\n",
    "mpsns = set()\n",
    "for k in range(2, MAX_K + 1):\n",
    "    for N in range(k, 2*k + 1):\n",
    "        if is_psn(N, k):\n",
    "            if k % 100 == 0:\n",
    "                print(f'k={k}: {N}, sum={sum(mpsns)}')\n",
    "            mpsns.add(N)\n",
    "            break\n",
    "\n",
    "sum(mpsns)"
   ]
  },
  {
   "cell_type": "code",
   "execution_count": null,
   "metadata": {},
   "outputs": [],
   "source": []
  }
 ],
 "metadata": {
  "kernelspec": {
   "name": "python3",
   "display_name": "Python 3.7.3 64-bit"
  },
  "language_info": {
   "codemirror_mode": {
    "name": "ipython",
    "version": 3
   },
   "file_extension": ".py",
   "mimetype": "text/x-python",
   "name": "python",
   "nbconvert_exporter": "python",
   "pygments_lexer": "ipython3",
   "version": "3.7.3"
  },
  "interpreter": {
   "hash": "aee8b7b246df8f9039afb4144a1f6fd8d2ca17a180786b69acc140d282b71a49"
  }
 },
 "nbformat": 4,
 "nbformat_minor": 2
}