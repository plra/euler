{
 "cells": [
  {
   "cell_type": "code",
   "execution_count": 3,
   "metadata": {},
   "outputs": [],
   "source": [
    "from itertools import combinations"
   ]
  },
  {
   "cell_type": "code",
   "execution_count": 12,
   "metadata": {},
   "outputs": [],
   "source": [
    "# 01, 04, 09, 16, 25, 36, 49, 64, 81\n",
    "# WOLOG assign 0 to A, 1 to B\n",
    "# A: 0\n",
    "# B: 1\n",
    "PAIRS = [(0,1), (0,4), (0,9), (1,6), (2,5), (3,6), (4,9), (6,4), (8,1)]"
   ]
  },
  {
   "cell_type": "code",
   "execution_count": 27,
   "metadata": {},
   "outputs": [],
   "source": [
    "def extend(faces, missing_d=None):\n",
    "    faces = set(faces)\n",
    "    if missing_d:\n",
    "        faces.add(missing_d)\n",
    "    if 6 in faces:\n",
    "        faces.add(9)\n",
    "    if 9 in faces:\n",
    "        faces.add(6)\n",
    "    return faces"
   ]
  },
  {
   "cell_type": "code",
   "execution_count": 33,
   "metadata": {},
   "outputs": [
    {
     "data": {
      "text/plain": [
       "1217"
      ]
     },
     "execution_count": 33,
     "metadata": {},
     "output_type": "execute_result"
    }
   ],
   "source": [
    "arrangements = set()\n",
    "for faces_a in combinations(range(10), 6):\n",
    "    faces_a_ext = extend(faces_a)\n",
    "    for faces_b in combinations(range(10), 6):\n",
    "        faces_b_ext = extend(faces_b)\n",
    "        works = True\n",
    "        for d1, d2 in PAIRS:\n",
    "            if not ((d1 in faces_a_ext and d2 in faces_b_ext) or (d2 in faces_a_ext and d1 in faces_b_ext)):\n",
    "                works = False\n",
    "                break\n",
    "        if works:\n",
    "            # print(faces_a_ext, faces_b_ext)\n",
    "            if faces_a < faces_b:\n",
    "                arrangements.add((faces_a, faces_b))\n",
    "            else:\n",
    "                arrangements.add((faces_b, faces_a))\n",
    "len(arrangements)"
   ]
  },
  {
   "cell_type": "code",
   "execution_count": 23,
   "metadata": {},
   "outputs": [
    {
     "data": {
      "text/plain": [
       "False"
      ]
     },
     "execution_count": 23,
     "metadata": {},
     "output_type": "execute_result"
    }
   ],
   "source": [
    "(1, 4) < (1, 3)"
   ]
  },
  {
   "cell_type": "code",
   "execution_count": null,
   "metadata": {},
   "outputs": [],
   "source": []
  }
 ],
 "metadata": {
  "kernelspec": {
   "display_name": "Python 3.7.3 64-bit",
   "language": "python",
   "name": "python37364bit82f2df5de1c54130a9b8b37a2f257131"
  },
  "language_info": {
   "codemirror_mode": {
    "name": "ipython",
    "version": 3
   },
   "file_extension": ".py",
   "mimetype": "text/x-python",
   "name": "python",
   "nbconvert_exporter": "python",
   "pygments_lexer": "ipython3",
   "version": "3.7.3"
  }
 },
 "nbformat": 4,
 "nbformat_minor": 2
}
