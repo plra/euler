{
 "cells": [
  {
   "cell_type": "code",
   "execution_count": null,
   "metadata": {},
   "outputs": [],
   "source": [
    "# (c/2)^2 + h^2 = a^2\n",
    "# c^2 + 4h^2 = 4a^2\n",
    "# Case 1: c = a + 1:\n",
    "#   (a+1)^2 + 4h^2 = a^2 + 2a + 1 = 4a^2\n",
    "#   3a^2 - 2a - 1 = 4h^2\n",
    "#   9a^2 - 6a + 1 = 12h^2 + 4\n",
    "#   (3a - 1)^2 = 4(3h^2 + 1)\n",
    "#   ((3a - 1)/2)^2 - 3h^2 = 1\n",
    "#   x^2 - 3y^2 = 1 where x = (3a - 1)/2, y = h\n",
    "# Case 2: c = a - 1:\n",
    "#   (a-1)^2 + 4h^2 = a^2 - 2a + 1 + 4h^2 = 4a^2\n",
    "#   3a^2 + 2a - 1 = 4h^2\n",
    "#   9a^2 + 6a + 1 = 12h^2 + 4\n",
    "#   (3a + 1)^2 = 4(3h^2 + 1)\n",
    "#   ((3a + 1)/2)^2 - 3h^2 = 1\n",
    "#   x^2 - 3y^2 = 1 where x = (3a + 1)/2, y = h\n",
    "# Solve Pell's equation!"
   ]
  },
  {
   "cell_type": "code",
   "execution_count": 80,
   "metadata": {},
   "outputs": [
    {
     "name": "stdout",
     "output_type": "stream",
     "text": [
      "5-5-6\n",
      "17-17-16\n",
      "65-65-66\n",
      "241-241-240\n",
      "901-901-902\n",
      "3361-3361-3360\n",
      "12545-12545-12546\n",
      "46817-46817-46816\n",
      "174725-174725-174726\n",
      "652081-652081-652080\n",
      "2433601-2433601-2433602\n",
      "9082321-9082321-9082320\n",
      "33895685-33895685-33895686\n",
      "126500417-126500417-126500416\n"
     ]
    },
    {
     "data": {
      "text/plain": [
       "518408346"
      ]
     },
     "execution_count": 80,
     "metadata": {},
     "output_type": "execute_result"
    }
   ],
   "source": [
    "MAX_PERIM = 10**9\n",
    "sum_perims = 0\n",
    "\n",
    "n = 3\n",
    "x1, y1 = 2, 1\n",
    "x, y = x1, y1\n",
    "for k in range(2, 1000):\n",
    "    x, y = x1 * x + n * y1 * y, x1 * y + y1 * x\n",
    "    a1, a2 = (2*x + 1) / 3, (2*x - 1) / 3\n",
    "    if a1 > MAX_PERIM / 3:\n",
    "        break\n",
    "    if a1 == int(a1):\n",
    "        # Case 1 satisfied\n",
    "        a1 = int(a1)\n",
    "        print('{}-{}-{}'.format(a1, a1, a1+1))\n",
    "        sum_perims += 3*a1 + 1\n",
    "    if a2 == int(a2):\n",
    "        # Case 2 satisfied\n",
    "        a2 = int(a2)\n",
    "        print('{}-{}-{}'.format(a2, a2, a2-1))\n",
    "        sum_perims += 3*a2 - 1\n",
    "\n",
    "sum_perims"
   ]
  },
  {
   "cell_type": "code",
   "execution_count": null,
   "metadata": {},
   "outputs": [],
   "source": [
    "518408346"
   ]
  }
 ],
 "metadata": {
  "kernelspec": {
   "display_name": "Python 3.7.3 64-bit",
   "language": "python",
   "name": "python37364bit82f2df5de1c54130a9b8b37a2f257131"
  },
  "language_info": {
   "codemirror_mode": {
    "name": "ipython",
    "version": 3
   },
   "file_extension": ".py",
   "mimetype": "text/x-python",
   "name": "python",
   "nbconvert_exporter": "python",
   "pygments_lexer": "ipython3",
   "version": "3.7.3"
  }
 },
 "nbformat": 4,
 "nbformat_minor": 2
}
