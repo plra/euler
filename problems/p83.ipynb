{
 "cells": [
  {
   "cell_type": "code",
   "execution_count": 2,
   "metadata": {},
   "outputs": [],
   "source": [
    "import networkx as nx"
   ]
  },
  {
   "cell_type": "code",
   "execution_count": 4,
   "metadata": {},
   "outputs": [],
   "source": [
    "M = [\n",
    "    [131, 673, 234, 103, 18],\n",
    "    [201, 96, 342, 965, 150],\n",
    "    [630, 803, 746, 422, 111],\n",
    "    [537, 699, 497, 121, 956],\n",
    "    [805, 732, 524, 37, 331]\n",
    "]\n",
    "n = len(M)"
   ]
  },
  {
   "cell_type": "code",
   "execution_count": 39,
   "metadata": {},
   "outputs": [],
   "source": [
    "M = []\n",
    "with open('../res/matrix2.txt') as f:\n",
    "    for line in f:\n",
    "        M.append([int(n) for n in line.strip().split(',')])\n",
    "n = len(M)"
   ]
  },
  {
   "cell_type": "code",
   "execution_count": 50,
   "metadata": {},
   "outputs": [],
   "source": [
    "G = nx.DiGraph()\n",
    "\n",
    "for i in range(n):\n",
    "    for j in range(n):\n",
    "        # Add edges into (i, j)\n",
    "        for (i0, j0) in [(i-1, j), (i+1, j), (i, j-1), (i, j+1)]:\n",
    "            if 0 <= i0 < n and 0 <= j0 < n:\n",
    "                G.add_edge((i0, j0), (i, j), weight=M[i][j])\n",
    "\n",
    "G.add_edge('start', (0, 0), weight=M[0][0])\n",
    "G.add_edge((n-1, n-1), 'end', weight=0)"
   ]
  },
  {
   "cell_type": "code",
   "execution_count": 52,
   "metadata": {},
   "outputs": [
    {
     "data": {
      "text/plain": [
       "425185"
      ]
     },
     "execution_count": 52,
     "metadata": {},
     "output_type": "execute_result"
    }
   ],
   "source": [
    "nx.shortest_path_length(G, source='start', target='end', weight='weight')"
   ]
  },
  {
   "cell_type": "code",
   "execution_count": null,
   "metadata": {},
   "outputs": [],
   "source": []
  }
 ],
 "metadata": {
  "kernelspec": {
   "display_name": "Python 3.7.3 64-bit",
   "language": "python",
   "name": "python37364bit82f2df5de1c54130a9b8b37a2f257131"
  },
  "language_info": {
   "codemirror_mode": {
    "name": "ipython",
    "version": 3
   },
   "file_extension": ".py",
   "mimetype": "text/x-python",
   "name": "python",
   "nbconvert_exporter": "python",
   "pygments_lexer": "ipython3",
   "version": "3.7.3"
  }
 },
 "nbformat": 4,
 "nbformat_minor": 2
}
