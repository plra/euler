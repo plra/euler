{
 "cells": [
  {
   "cell_type": "code",
   "execution_count": 1,
   "metadata": {},
   "outputs": [],
   "source": [
    "from math import sqrt"
   ]
  },
  {
   "cell_type": "code",
   "execution_count": 34,
   "metadata": {},
   "outputs": [],
   "source": [
    "def cf_rep(n, terms):\n",
    "    rn = sqrt(n)\n",
    "    a_0 = int(rn)\n",
    "    a = [a_0]\n",
    "    x, y = 1, a_0\n",
    "    for i in range(terms):\n",
    "        a_i = int(x / (rn - y))\n",
    "        a.append(a_i)\n",
    "        x = (n - y**2) / x\n",
    "        y = a_i * x - y\n",
    "    return a"
   ]
  },
  {
   "cell_type": "code",
   "execution_count": 35,
   "metadata": {},
   "outputs": [],
   "source": [
    "def convergent(cf, n):\n",
    "    # start with \"tail\": 1/a_n\n",
    "    num = 1\n",
    "    denom = cf[n-1]\n",
    "    for i in range(n-2, -1, -1):\n",
    "        a_i = cf[i]\n",
    "        # compute 1 / (a_i + num/denom)\n",
    "        new_num = denom\n",
    "        new_denom = a_i * denom + num\n",
    "        num, denom = new_num, new_denom\n",
    "    # numerator and denominator flipped at last step\n",
    "    return (denom, num)"
   ]
  },
  {
   "cell_type": "code",
   "execution_count": 36,
   "metadata": {},
   "outputs": [],
   "source": [
    "def digital_sum(n, digits=100, conv_num=256):\n",
    "    if sqrt(n) == int(sqrt(n)):\n",
    "        return 0\n",
    "    cf = cf_rep(n, conv_num)\n",
    "    a, b = convergent(cf, conv_num)\n",
    "    sum_digits = 0\n",
    "    for _ in range(digits):\n",
    "        d = int(a / b)\n",
    "        a = 10 * (a - d * b)\n",
    "        sum_digits += d\n",
    "    return sum_digits"
   ]
  },
  {
   "cell_type": "code",
   "execution_count": 40,
   "metadata": {},
   "outputs": [
    {
     "data": {
      "text/plain": [
       "40886"
      ]
     },
     "execution_count": 40,
     "metadata": {},
     "output_type": "execute_result"
    }
   ],
   "source": [
    "sum(digital_sum(n) for n in range(1, 101))"
   ]
  },
  {
   "cell_type": "code",
   "execution_count": null,
   "metadata": {},
   "outputs": [],
   "source": []
  }
 ],
 "metadata": {
  "kernelspec": {
   "display_name": "Python 3.7.3 64-bit",
   "language": "python",
   "name": "python37364bit82f2df5de1c54130a9b8b37a2f257131"
  },
  "language_info": {
   "codemirror_mode": {
    "name": "ipython",
    "version": 3
   },
   "file_extension": ".py",
   "mimetype": "text/x-python",
   "name": "python",
   "nbconvert_exporter": "python",
   "pygments_lexer": "ipython3",
   "version": "3.7.3"
  }
 },
 "nbformat": 4,
 "nbformat_minor": 2
}
